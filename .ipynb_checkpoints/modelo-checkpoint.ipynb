{
 "cells": [
  {
   "cell_type": "markdown",
   "metadata": {},
   "source": [
    "# Case Aquisição"
   ]
  },
  {
   "cell_type": "markdown",
   "metadata": {},
   "source": [
    "O escopo deste projeto está dividido nos seguinte tópicos:\n",
    "- Avaliação e limpeza de dados\n",
    "- Análise exploratória\n",
    "- Pré-processamento\n",
    "- Modelagem\n",
    "- Tuning\n"
   ]
  },
  {
   "cell_type": "markdown",
   "metadata": {},
   "source": [
    "***"
   ]
  },
  {
   "cell_type": "markdown",
   "metadata": {},
   "source": [
    "### Importações e configurações"
   ]
  },
  {
   "cell_type": "code",
   "execution_count": 353,
   "metadata": {},
   "outputs": [],
   "source": [
    "import pandas as pd\n",
    "import numpy as np\n",
    "import matplotlib.pyplot as plt\n",
    "import matplotlib.patches as mpatches\n",
    "from time import time\n",
    "from datetime import datetime\n",
    "from datetime import date\n",
    "from sklearn.preprocessing import MinMaxScaler\n",
    "from sklearn.model_selection import train_test_split\n",
    "from sklearn.metrics import f1_score, accuracy_score\n",
    "from sklearn.ensemble import RandomForestClassifier, GradientBoostingClassifier\n",
    "from sklearn.neighbors import KNeighborsClassifier\n",
    "from sklearn.model_selection import GridSearchCV\n",
    "from sklearn.metrics import make_scorer\n",
    "from sklearn import tree\n",
    "import warnings\n",
    "\n",
    "# Oculta os warnings dos códigos\n",
    "warnings.filterwarnings('ignore')\n",
    "\n",
    "# Aumenta a fonte nos gráficos\n",
    "plt.rcParams.update({'font.size': 16})"
   ]
  },
  {
   "cell_type": "markdown",
   "metadata": {},
   "source": [
    "### Leitura de dados"
   ]
  },
  {
   "cell_type": "code",
   "execution_count": 354,
   "metadata": {},
   "outputs": [],
   "source": [
    "df = pd.read_csv('dataset/Planilha_1.csv', sep = ';')\n",
    "df2 = pd.read_csv('dataset/Planilha_2.csv', sep = ';')"
   ]
  },
  {
   "cell_type": "markdown",
   "metadata": {},
   "source": [
    "***"
   ]
  },
  {
   "cell_type": "markdown",
   "metadata": {},
   "source": [
    "## Limpeza de dados"
   ]
  },
  {
   "cell_type": "markdown",
   "metadata": {},
   "source": [
    "### Avaliação"
   ]
  },
  {
   "cell_type": "markdown",
   "metadata": {},
   "source": [
    "#### Planilha_1.csv"
   ]
  },
  {
   "cell_type": "code",
   "execution_count": 355,
   "metadata": {},
   "outputs": [
    {
     "data": {
      "text/html": [
       "<div>\n",
       "<style scoped>\n",
       "    .dataframe tbody tr th:only-of-type {\n",
       "        vertical-align: middle;\n",
       "    }\n",
       "\n",
       "    .dataframe tbody tr th {\n",
       "        vertical-align: top;\n",
       "    }\n",
       "\n",
       "    .dataframe thead th {\n",
       "        text-align: right;\n",
       "    }\n",
       "</style>\n",
       "<table border=\"1\" class=\"dataframe\">\n",
       "  <thead>\n",
       "    <tr style=\"text-align: right;\">\n",
       "      <th></th>\n",
       "      <th>ID</th>\n",
       "      <th>QT_TOTAL_HIT_PAYWALL</th>\n",
       "      <th>DIASNAVEGADOS</th>\n",
       "      <th>NOTICIASLIDAS</th>\n",
       "      <th>VISITAS_CAPA</th>\n",
       "      <th>USOU_APP</th>\n",
       "    </tr>\n",
       "  </thead>\n",
       "  <tbody>\n",
       "    <tr>\n",
       "      <th>5395</th>\n",
       "      <td>51596</td>\n",
       "      <td>0</td>\n",
       "      <td>20</td>\n",
       "      <td>8</td>\n",
       "      <td>0</td>\n",
       "      <td>NAO</td>\n",
       "    </tr>\n",
       "    <tr>\n",
       "      <th>5013</th>\n",
       "      <td>362499</td>\n",
       "      <td>0</td>\n",
       "      <td>1</td>\n",
       "      <td>6</td>\n",
       "      <td>0</td>\n",
       "      <td>NAO</td>\n",
       "    </tr>\n",
       "    <tr>\n",
       "      <th>3771</th>\n",
       "      <td>194923</td>\n",
       "      <td>0</td>\n",
       "      <td>3</td>\n",
       "      <td>3</td>\n",
       "      <td>2</td>\n",
       "      <td>NAO</td>\n",
       "    </tr>\n",
       "    <tr>\n",
       "      <th>4614</th>\n",
       "      <td>244164</td>\n",
       "      <td>27</td>\n",
       "      <td>28</td>\n",
       "      <td>99</td>\n",
       "      <td>149</td>\n",
       "      <td>SIM</td>\n",
       "    </tr>\n",
       "    <tr>\n",
       "      <th>259</th>\n",
       "      <td>636</td>\n",
       "      <td>0</td>\n",
       "      <td>0</td>\n",
       "      <td>0</td>\n",
       "      <td>0</td>\n",
       "      <td>NAO</td>\n",
       "    </tr>\n",
       "    <tr>\n",
       "      <th>4844</th>\n",
       "      <td>112756</td>\n",
       "      <td>24</td>\n",
       "      <td>17</td>\n",
       "      <td>15</td>\n",
       "      <td>0</td>\n",
       "      <td>NAO</td>\n",
       "    </tr>\n",
       "    <tr>\n",
       "      <th>945</th>\n",
       "      <td>103568</td>\n",
       "      <td>0</td>\n",
       "      <td>2</td>\n",
       "      <td>1</td>\n",
       "      <td>0</td>\n",
       "      <td>NAO</td>\n",
       "    </tr>\n",
       "    <tr>\n",
       "      <th>5165</th>\n",
       "      <td>93876</td>\n",
       "      <td>0</td>\n",
       "      <td>3</td>\n",
       "      <td>4</td>\n",
       "      <td>0</td>\n",
       "      <td>NAO</td>\n",
       "    </tr>\n",
       "    <tr>\n",
       "      <th>785</th>\n",
       "      <td>264374</td>\n",
       "      <td>0</td>\n",
       "      <td>21</td>\n",
       "      <td>23</td>\n",
       "      <td>0</td>\n",
       "      <td>NAO</td>\n",
       "    </tr>\n",
       "    <tr>\n",
       "      <th>2929</th>\n",
       "      <td>305332</td>\n",
       "      <td>2</td>\n",
       "      <td>4</td>\n",
       "      <td>5</td>\n",
       "      <td>0</td>\n",
       "      <td>NAO</td>\n",
       "    </tr>\n",
       "  </tbody>\n",
       "</table>\n",
       "</div>"
      ],
      "text/plain": [
       "          ID  QT_TOTAL_HIT_PAYWALL  DIASNAVEGADOS  NOTICIASLIDAS  \\\n",
       "5395   51596                     0             20              8   \n",
       "5013  362499                     0              1              6   \n",
       "3771  194923                     0              3              3   \n",
       "4614  244164                    27             28             99   \n",
       "259      636                     0              0              0   \n",
       "4844  112756                    24             17             15   \n",
       "945   103568                     0              2              1   \n",
       "5165   93876                     0              3              4   \n",
       "785   264374                     0             21             23   \n",
       "2929  305332                     2              4              5   \n",
       "\n",
       "      VISITAS_CAPA USOU_APP  \n",
       "5395             0      NAO  \n",
       "5013             0      NAO  \n",
       "3771             2      NAO  \n",
       "4614           149      SIM  \n",
       "259              0      NAO  \n",
       "4844             0      NAO  \n",
       "945              0      NAO  \n",
       "5165             0      NAO  \n",
       "785              0      NAO  \n",
       "2929             0      NAO  "
      ]
     },
     "execution_count": 355,
     "metadata": {},
     "output_type": "execute_result"
    }
   ],
   "source": [
    "df.sample(10)"
   ]
  },
  {
   "cell_type": "code",
   "execution_count": 356,
   "metadata": {},
   "outputs": [
    {
     "name": "stdout",
     "output_type": "stream",
     "text": [
      "<class 'pandas.core.frame.DataFrame'>\n",
      "RangeIndex: 5600 entries, 0 to 5599\n",
      "Data columns (total 6 columns):\n",
      "ID                      5600 non-null int64\n",
      "QT_TOTAL_HIT_PAYWALL    5600 non-null int64\n",
      "DIASNAVEGADOS           5600 non-null int64\n",
      "NOTICIASLIDAS           5600 non-null int64\n",
      "VISITAS_CAPA            5600 non-null int64\n",
      "USOU_APP                5600 non-null object\n",
      "dtypes: int64(5), object(1)\n",
      "memory usage: 262.6+ KB\n"
     ]
    }
   ],
   "source": [
    "df.info()"
   ]
  },
  {
   "cell_type": "code",
   "execution_count": 357,
   "metadata": {},
   "outputs": [
    {
     "data": {
      "text/html": [
       "<div>\n",
       "<style scoped>\n",
       "    .dataframe tbody tr th:only-of-type {\n",
       "        vertical-align: middle;\n",
       "    }\n",
       "\n",
       "    .dataframe tbody tr th {\n",
       "        vertical-align: top;\n",
       "    }\n",
       "\n",
       "    .dataframe thead th {\n",
       "        text-align: right;\n",
       "    }\n",
       "</style>\n",
       "<table border=\"1\" class=\"dataframe\">\n",
       "  <thead>\n",
       "    <tr style=\"text-align: right;\">\n",
       "      <th></th>\n",
       "      <th>ID</th>\n",
       "      <th>QT_TOTAL_HIT_PAYWALL</th>\n",
       "      <th>DIASNAVEGADOS</th>\n",
       "      <th>NOTICIASLIDAS</th>\n",
       "      <th>VISITAS_CAPA</th>\n",
       "    </tr>\n",
       "  </thead>\n",
       "  <tbody>\n",
       "    <tr>\n",
       "      <th>count</th>\n",
       "      <td>5600.000000</td>\n",
       "      <td>5600.000000</td>\n",
       "      <td>5600.000000</td>\n",
       "      <td>5600.000000</td>\n",
       "      <td>5600.000000</td>\n",
       "    </tr>\n",
       "    <tr>\n",
       "      <th>mean</th>\n",
       "      <td>165460.766786</td>\n",
       "      <td>6.795000</td>\n",
       "      <td>11.600714</td>\n",
       "      <td>17.768036</td>\n",
       "      <td>34.611250</td>\n",
       "    </tr>\n",
       "    <tr>\n",
       "      <th>std</th>\n",
       "      <td>116184.700778</td>\n",
       "      <td>25.313927</td>\n",
       "      <td>14.711436</td>\n",
       "      <td>72.011940</td>\n",
       "      <td>126.670657</td>\n",
       "    </tr>\n",
       "    <tr>\n",
       "      <th>min</th>\n",
       "      <td>3.000000</td>\n",
       "      <td>0.000000</td>\n",
       "      <td>0.000000</td>\n",
       "      <td>0.000000</td>\n",
       "      <td>0.000000</td>\n",
       "    </tr>\n",
       "    <tr>\n",
       "      <th>25%</th>\n",
       "      <td>58354.250000</td>\n",
       "      <td>0.000000</td>\n",
       "      <td>2.000000</td>\n",
       "      <td>1.000000</td>\n",
       "      <td>0.000000</td>\n",
       "    </tr>\n",
       "    <tr>\n",
       "      <th>50%</th>\n",
       "      <td>163883.000000</td>\n",
       "      <td>0.000000</td>\n",
       "      <td>5.000000</td>\n",
       "      <td>3.000000</td>\n",
       "      <td>0.000000</td>\n",
       "    </tr>\n",
       "    <tr>\n",
       "      <th>75%</th>\n",
       "      <td>265199.000000</td>\n",
       "      <td>3.000000</td>\n",
       "      <td>16.000000</td>\n",
       "      <td>8.000000</td>\n",
       "      <td>7.000000</td>\n",
       "    </tr>\n",
       "    <tr>\n",
       "      <th>max</th>\n",
       "      <td>371187.000000</td>\n",
       "      <td>894.000000</td>\n",
       "      <td>60.000000</td>\n",
       "      <td>1773.000000</td>\n",
       "      <td>2963.000000</td>\n",
       "    </tr>\n",
       "  </tbody>\n",
       "</table>\n",
       "</div>"
      ],
      "text/plain": [
       "                  ID  QT_TOTAL_HIT_PAYWALL  DIASNAVEGADOS  NOTICIASLIDAS  \\\n",
       "count    5600.000000           5600.000000    5600.000000    5600.000000   \n",
       "mean   165460.766786              6.795000      11.600714      17.768036   \n",
       "std    116184.700778             25.313927      14.711436      72.011940   \n",
       "min         3.000000              0.000000       0.000000       0.000000   \n",
       "25%     58354.250000              0.000000       2.000000       1.000000   \n",
       "50%    163883.000000              0.000000       5.000000       3.000000   \n",
       "75%    265199.000000              3.000000      16.000000       8.000000   \n",
       "max    371187.000000            894.000000      60.000000    1773.000000   \n",
       "\n",
       "       VISITAS_CAPA  \n",
       "count   5600.000000  \n",
       "mean      34.611250  \n",
       "std      126.670657  \n",
       "min        0.000000  \n",
       "25%        0.000000  \n",
       "50%        0.000000  \n",
       "75%        7.000000  \n",
       "max     2963.000000  "
      ]
     },
     "execution_count": 357,
     "metadata": {},
     "output_type": "execute_result"
    }
   ],
   "source": [
    "df.describe()"
   ]
  },
  {
   "cell_type": "code",
   "execution_count": 358,
   "metadata": {},
   "outputs": [
    {
     "data": {
      "text/html": [
       "<div>\n",
       "<style scoped>\n",
       "    .dataframe tbody tr th:only-of-type {\n",
       "        vertical-align: middle;\n",
       "    }\n",
       "\n",
       "    .dataframe tbody tr th {\n",
       "        vertical-align: top;\n",
       "    }\n",
       "\n",
       "    .dataframe thead th {\n",
       "        text-align: right;\n",
       "    }\n",
       "</style>\n",
       "<table border=\"1\" class=\"dataframe\">\n",
       "  <thead>\n",
       "    <tr style=\"text-align: right;\">\n",
       "      <th></th>\n",
       "      <th>ID</th>\n",
       "      <th>QT_TOTAL_HIT_PAYWALL</th>\n",
       "      <th>DIASNAVEGADOS</th>\n",
       "      <th>NOTICIASLIDAS</th>\n",
       "      <th>VISITAS_CAPA</th>\n",
       "      <th>USOU_APP</th>\n",
       "    </tr>\n",
       "  </thead>\n",
       "  <tbody>\n",
       "  </tbody>\n",
       "</table>\n",
       "</div>"
      ],
      "text/plain": [
       "Empty DataFrame\n",
       "Columns: [ID, QT_TOTAL_HIT_PAYWALL, DIASNAVEGADOS, NOTICIASLIDAS, VISITAS_CAPA, USOU_APP]\n",
       "Index: []"
      ]
     },
     "execution_count": 358,
     "metadata": {},
     "output_type": "execute_result"
    }
   ],
   "source": [
    "df[df.duplicated(keep=False)]"
   ]
  },
  {
   "cell_type": "markdown",
   "metadata": {},
   "source": [
    "#### Planilha_2.csv"
   ]
  },
  {
   "cell_type": "code",
   "execution_count": 359,
   "metadata": {},
   "outputs": [
    {
     "data": {
      "text/html": [
       "<div>\n",
       "<style scoped>\n",
       "    .dataframe tbody tr th:only-of-type {\n",
       "        vertical-align: middle;\n",
       "    }\n",
       "\n",
       "    .dataframe tbody tr th {\n",
       "        vertical-align: top;\n",
       "    }\n",
       "\n",
       "    .dataframe thead th {\n",
       "        text-align: right;\n",
       "    }\n",
       "</style>\n",
       "<table border=\"1\" class=\"dataframe\">\n",
       "  <thead>\n",
       "    <tr style=\"text-align: right;\">\n",
       "      <th></th>\n",
       "      <th>ID</th>\n",
       "      <th>PERFIL</th>\n",
       "      <th>PES_GENERO</th>\n",
       "      <th>PES_NASCIMENTO_DATA</th>\n",
       "      <th>ATR_PF_GEO_RENDA_FAM</th>\n",
       "    </tr>\n",
       "  </thead>\n",
       "  <tbody>\n",
       "    <tr>\n",
       "      <th>2036</th>\n",
       "      <td>354780</td>\n",
       "      <td>PROSPECT</td>\n",
       "      <td>F</td>\n",
       "      <td>NaN</td>\n",
       "      <td>NaN</td>\n",
       "    </tr>\n",
       "    <tr>\n",
       "      <th>1060</th>\n",
       "      <td>230911</td>\n",
       "      <td>PROSPECT</td>\n",
       "      <td>F</td>\n",
       "      <td>NaN</td>\n",
       "      <td>NaN</td>\n",
       "    </tr>\n",
       "    <tr>\n",
       "      <th>4715</th>\n",
       "      <td>258219</td>\n",
       "      <td>PROSPECT</td>\n",
       "      <td>M</td>\n",
       "      <td>NaN</td>\n",
       "      <td>DE 4SM ATE 8SM</td>\n",
       "    </tr>\n",
       "    <tr>\n",
       "      <th>2619</th>\n",
       "      <td>310029</td>\n",
       "      <td>PROSPECT</td>\n",
       "      <td>F</td>\n",
       "      <td>09.09.1976 00:00:00</td>\n",
       "      <td>ACIMA DE 25SM</td>\n",
       "    </tr>\n",
       "    <tr>\n",
       "      <th>1339</th>\n",
       "      <td>72282</td>\n",
       "      <td>PROSPECT</td>\n",
       "      <td>M</td>\n",
       "      <td>05.01.1986 00:00:00</td>\n",
       "      <td>DE 3SM ATE 4SM</td>\n",
       "    </tr>\n",
       "    <tr>\n",
       "      <th>1498</th>\n",
       "      <td>213404</td>\n",
       "      <td>PROSPECT</td>\n",
       "      <td>F</td>\n",
       "      <td>NaN</td>\n",
       "      <td>NaN</td>\n",
       "    </tr>\n",
       "    <tr>\n",
       "      <th>3721</th>\n",
       "      <td>300070</td>\n",
       "      <td>PROSPECT</td>\n",
       "      <td>F</td>\n",
       "      <td>NaN</td>\n",
       "      <td>DE 3SM ATE 4SM</td>\n",
       "    </tr>\n",
       "    <tr>\n",
       "      <th>5151</th>\n",
       "      <td>55080</td>\n",
       "      <td>PROSPECT</td>\n",
       "      <td>F</td>\n",
       "      <td>NaN</td>\n",
       "      <td>NaN</td>\n",
       "    </tr>\n",
       "    <tr>\n",
       "      <th>593</th>\n",
       "      <td>97</td>\n",
       "      <td>ASSINANTE</td>\n",
       "      <td>M</td>\n",
       "      <td>01.01.1900 00:00:00</td>\n",
       "      <td>NaN</td>\n",
       "    </tr>\n",
       "    <tr>\n",
       "      <th>1484</th>\n",
       "      <td>304640</td>\n",
       "      <td>PROSPECT</td>\n",
       "      <td>M</td>\n",
       "      <td>NaN</td>\n",
       "      <td>DE 4SM ATE 8SM</td>\n",
       "    </tr>\n",
       "  </tbody>\n",
       "</table>\n",
       "</div>"
      ],
      "text/plain": [
       "          ID     PERFIL PES_GENERO  PES_NASCIMENTO_DATA ATR_PF_GEO_RENDA_FAM\n",
       "2036  354780  PROSPECT           F                  NaN                  NaN\n",
       "1060  230911  PROSPECT           F                  NaN                  NaN\n",
       "4715  258219  PROSPECT           M                  NaN       DE 4SM ATE 8SM\n",
       "2619  310029  PROSPECT           F  09.09.1976 00:00:00        ACIMA DE 25SM\n",
       "1339   72282  PROSPECT           M  05.01.1986 00:00:00       DE 3SM ATE 4SM\n",
       "1498  213404  PROSPECT           F                  NaN                  NaN\n",
       "3721  300070  PROSPECT           F                  NaN       DE 3SM ATE 4SM\n",
       "5151   55080  PROSPECT           F                  NaN                  NaN\n",
       "593       97  ASSINANTE          M  01.01.1900 00:00:00                  NaN\n",
       "1484  304640  PROSPECT           M                  NaN       DE 4SM ATE 8SM"
      ]
     },
     "execution_count": 359,
     "metadata": {},
     "output_type": "execute_result"
    }
   ],
   "source": [
    "df2.sample(10)"
   ]
  },
  {
   "cell_type": "code",
   "execution_count": 360,
   "metadata": {},
   "outputs": [
    {
     "name": "stdout",
     "output_type": "stream",
     "text": [
      "<class 'pandas.core.frame.DataFrame'>\n",
      "RangeIndex: 5600 entries, 0 to 5599\n",
      "Data columns (total 5 columns):\n",
      "ID                      5600 non-null int64\n",
      "PERFIL                  5600 non-null object\n",
      "PES_GENERO              5600 non-null object\n",
      "PES_NASCIMENTO_DATA     1935 non-null object\n",
      "ATR_PF_GEO_RENDA_FAM    2648 non-null object\n",
      "dtypes: int64(1), object(4)\n",
      "memory usage: 218.8+ KB\n"
     ]
    }
   ],
   "source": [
    "df2.info()"
   ]
  },
  {
   "cell_type": "code",
   "execution_count": 361,
   "metadata": {},
   "outputs": [
    {
     "data": {
      "text/html": [
       "<div>\n",
       "<style scoped>\n",
       "    .dataframe tbody tr th:only-of-type {\n",
       "        vertical-align: middle;\n",
       "    }\n",
       "\n",
       "    .dataframe tbody tr th {\n",
       "        vertical-align: top;\n",
       "    }\n",
       "\n",
       "    .dataframe thead th {\n",
       "        text-align: right;\n",
       "    }\n",
       "</style>\n",
       "<table border=\"1\" class=\"dataframe\">\n",
       "  <thead>\n",
       "    <tr style=\"text-align: right;\">\n",
       "      <th></th>\n",
       "      <th>ID</th>\n",
       "    </tr>\n",
       "  </thead>\n",
       "  <tbody>\n",
       "    <tr>\n",
       "      <th>count</th>\n",
       "      <td>5600.000000</td>\n",
       "    </tr>\n",
       "    <tr>\n",
       "      <th>mean</th>\n",
       "      <td>165460.766786</td>\n",
       "    </tr>\n",
       "    <tr>\n",
       "      <th>std</th>\n",
       "      <td>116184.700778</td>\n",
       "    </tr>\n",
       "    <tr>\n",
       "      <th>min</th>\n",
       "      <td>3.000000</td>\n",
       "    </tr>\n",
       "    <tr>\n",
       "      <th>25%</th>\n",
       "      <td>58354.250000</td>\n",
       "    </tr>\n",
       "    <tr>\n",
       "      <th>50%</th>\n",
       "      <td>163883.000000</td>\n",
       "    </tr>\n",
       "    <tr>\n",
       "      <th>75%</th>\n",
       "      <td>265199.000000</td>\n",
       "    </tr>\n",
       "    <tr>\n",
       "      <th>max</th>\n",
       "      <td>371187.000000</td>\n",
       "    </tr>\n",
       "  </tbody>\n",
       "</table>\n",
       "</div>"
      ],
      "text/plain": [
       "                  ID\n",
       "count    5600.000000\n",
       "mean   165460.766786\n",
       "std    116184.700778\n",
       "min         3.000000\n",
       "25%     58354.250000\n",
       "50%    163883.000000\n",
       "75%    265199.000000\n",
       "max    371187.000000"
      ]
     },
     "execution_count": 361,
     "metadata": {},
     "output_type": "execute_result"
    }
   ],
   "source": [
    "df2.describe()"
   ]
  },
  {
   "cell_type": "code",
   "execution_count": 362,
   "metadata": {},
   "outputs": [
    {
     "data": {
      "text/html": [
       "<div>\n",
       "<style scoped>\n",
       "    .dataframe tbody tr th:only-of-type {\n",
       "        vertical-align: middle;\n",
       "    }\n",
       "\n",
       "    .dataframe tbody tr th {\n",
       "        vertical-align: top;\n",
       "    }\n",
       "\n",
       "    .dataframe thead th {\n",
       "        text-align: right;\n",
       "    }\n",
       "</style>\n",
       "<table border=\"1\" class=\"dataframe\">\n",
       "  <thead>\n",
       "    <tr style=\"text-align: right;\">\n",
       "      <th></th>\n",
       "      <th>ID</th>\n",
       "      <th>PERFIL</th>\n",
       "      <th>PES_GENERO</th>\n",
       "      <th>PES_NASCIMENTO_DATA</th>\n",
       "      <th>ATR_PF_GEO_RENDA_FAM</th>\n",
       "    </tr>\n",
       "  </thead>\n",
       "  <tbody>\n",
       "  </tbody>\n",
       "</table>\n",
       "</div>"
      ],
      "text/plain": [
       "Empty DataFrame\n",
       "Columns: [ID, PERFIL, PES_GENERO, PES_NASCIMENTO_DATA, ATR_PF_GEO_RENDA_FAM]\n",
       "Index: []"
      ]
     },
     "execution_count": 362,
     "metadata": {},
     "output_type": "execute_result"
    }
   ],
   "source": [
    "df2[df2.duplicated(keep=False)]"
   ]
  },
  {
   "cell_type": "markdown",
   "metadata": {},
   "source": [
    "### Problemas detectados"
   ]
  },
  {
   "cell_type": "markdown",
   "metadata": {},
   "source": [
    "- Os dados estão em dois datasets diferentes.\n",
    "- O tipo de dado da coluna PES_NASCIMENTO_DATA está incorreto.\n",
    "- PES_NASCIMENTO_DATA com datas inválidas.\n",
    "- PES_NASCIMENTO_DATA e ATR_PF_GEO_RENDA_FAM com dados ausentes."
   ]
  },
  {
   "cell_type": "markdown",
   "metadata": {},
   "source": [
    "### Limpeza"
   ]
  },
  {
   "cell_type": "markdown",
   "metadata": {},
   "source": [
    "#### Backup dos datasets originais"
   ]
  },
  {
   "cell_type": "code",
   "execution_count": 363,
   "metadata": {},
   "outputs": [],
   "source": [
    "df_copy = df.copy()\n",
    "df2_copy = df2.copy()"
   ]
  },
  {
   "cell_type": "markdown",
   "metadata": {},
   "source": [
    "***"
   ]
  },
  {
   "cell_type": "markdown",
   "metadata": {},
   "source": [
    "#### Definição"
   ]
  },
  {
   "cell_type": "markdown",
   "metadata": {},
   "source": [
    "Unir os dois datasets."
   ]
  },
  {
   "cell_type": "markdown",
   "metadata": {},
   "source": [
    "#### Código"
   ]
  },
  {
   "cell_type": "code",
   "execution_count": 364,
   "metadata": {},
   "outputs": [],
   "source": [
    "df = pd.merge(left = df, right = df2, left_on = 'ID', right_on = 'ID', how = 'left')\n",
    "df = df.drop('ID', axis=1)"
   ]
  },
  {
   "cell_type": "markdown",
   "metadata": {},
   "source": [
    "#### Teste"
   ]
  },
  {
   "cell_type": "code",
   "execution_count": 365,
   "metadata": {},
   "outputs": [
    {
     "data": {
      "text/html": [
       "<div>\n",
       "<style scoped>\n",
       "    .dataframe tbody tr th:only-of-type {\n",
       "        vertical-align: middle;\n",
       "    }\n",
       "\n",
       "    .dataframe tbody tr th {\n",
       "        vertical-align: top;\n",
       "    }\n",
       "\n",
       "    .dataframe thead th {\n",
       "        text-align: right;\n",
       "    }\n",
       "</style>\n",
       "<table border=\"1\" class=\"dataframe\">\n",
       "  <thead>\n",
       "    <tr style=\"text-align: right;\">\n",
       "      <th></th>\n",
       "      <th>QT_TOTAL_HIT_PAYWALL</th>\n",
       "      <th>DIASNAVEGADOS</th>\n",
       "      <th>NOTICIASLIDAS</th>\n",
       "      <th>VISITAS_CAPA</th>\n",
       "      <th>USOU_APP</th>\n",
       "      <th>PERFIL</th>\n",
       "      <th>PES_GENERO</th>\n",
       "      <th>PES_NASCIMENTO_DATA</th>\n",
       "      <th>ATR_PF_GEO_RENDA_FAM</th>\n",
       "    </tr>\n",
       "  </thead>\n",
       "  <tbody>\n",
       "    <tr>\n",
       "      <th>3747</th>\n",
       "      <td>10</td>\n",
       "      <td>11</td>\n",
       "      <td>0</td>\n",
       "      <td>64</td>\n",
       "      <td>SIM</td>\n",
       "      <td>PROSPECT</td>\n",
       "      <td>M</td>\n",
       "      <td>NaN</td>\n",
       "      <td>DE 3SM ATE 4SM</td>\n",
       "    </tr>\n",
       "    <tr>\n",
       "      <th>2636</th>\n",
       "      <td>0</td>\n",
       "      <td>1</td>\n",
       "      <td>1</td>\n",
       "      <td>0</td>\n",
       "      <td>NAO</td>\n",
       "      <td>PROSPECT</td>\n",
       "      <td>F</td>\n",
       "      <td>12.12.1958 00:00:00</td>\n",
       "      <td>DE 8SM ATE 14SM</td>\n",
       "    </tr>\n",
       "    <tr>\n",
       "      <th>3060</th>\n",
       "      <td>0</td>\n",
       "      <td>16</td>\n",
       "      <td>0</td>\n",
       "      <td>20</td>\n",
       "      <td>NAO</td>\n",
       "      <td>PROSPECT</td>\n",
       "      <td>M</td>\n",
       "      <td>NaN</td>\n",
       "      <td>NaN</td>\n",
       "    </tr>\n",
       "    <tr>\n",
       "      <th>3384</th>\n",
       "      <td>0</td>\n",
       "      <td>2</td>\n",
       "      <td>2</td>\n",
       "      <td>0</td>\n",
       "      <td>NAO</td>\n",
       "      <td>PROSPECT</td>\n",
       "      <td>M</td>\n",
       "      <td>23.02.1989 00:00:00</td>\n",
       "      <td>DE 14SM ATE 25SM</td>\n",
       "    </tr>\n",
       "    <tr>\n",
       "      <th>5129</th>\n",
       "      <td>0</td>\n",
       "      <td>1</td>\n",
       "      <td>1</td>\n",
       "      <td>0</td>\n",
       "      <td>NAO</td>\n",
       "      <td>PROSPECT</td>\n",
       "      <td>M</td>\n",
       "      <td>NaN</td>\n",
       "      <td>DE 4SM ATE 8SM</td>\n",
       "    </tr>\n",
       "    <tr>\n",
       "      <th>271</th>\n",
       "      <td>0</td>\n",
       "      <td>0</td>\n",
       "      <td>0</td>\n",
       "      <td>0</td>\n",
       "      <td>NAO</td>\n",
       "      <td>ASSINANTE</td>\n",
       "      <td>F</td>\n",
       "      <td>01.01.1900 00:00:00</td>\n",
       "      <td>DE 8SM ATE 14SM</td>\n",
       "    </tr>\n",
       "    <tr>\n",
       "      <th>4210</th>\n",
       "      <td>22</td>\n",
       "      <td>34</td>\n",
       "      <td>0</td>\n",
       "      <td>99</td>\n",
       "      <td>SIM</td>\n",
       "      <td>PROSPECT</td>\n",
       "      <td>M</td>\n",
       "      <td>NaN</td>\n",
       "      <td>NaN</td>\n",
       "    </tr>\n",
       "    <tr>\n",
       "      <th>1432</th>\n",
       "      <td>0</td>\n",
       "      <td>2</td>\n",
       "      <td>0</td>\n",
       "      <td>2</td>\n",
       "      <td>SIM</td>\n",
       "      <td>PROSPECT</td>\n",
       "      <td>M</td>\n",
       "      <td>NaN</td>\n",
       "      <td>DE 2SM ATE 3SM</td>\n",
       "    </tr>\n",
       "    <tr>\n",
       "      <th>375</th>\n",
       "      <td>16</td>\n",
       "      <td>0</td>\n",
       "      <td>0</td>\n",
       "      <td>0</td>\n",
       "      <td>NAO</td>\n",
       "      <td>ASSINANTE</td>\n",
       "      <td>M</td>\n",
       "      <td>01.01.1900 00:00:00</td>\n",
       "      <td>DE 3SM ATE 4SM</td>\n",
       "    </tr>\n",
       "    <tr>\n",
       "      <th>3850</th>\n",
       "      <td>0</td>\n",
       "      <td>7</td>\n",
       "      <td>4</td>\n",
       "      <td>1</td>\n",
       "      <td>NAO</td>\n",
       "      <td>PROSPECT</td>\n",
       "      <td>M</td>\n",
       "      <td>NaN</td>\n",
       "      <td>DE 4SM ATE 8SM</td>\n",
       "    </tr>\n",
       "  </tbody>\n",
       "</table>\n",
       "</div>"
      ],
      "text/plain": [
       "      QT_TOTAL_HIT_PAYWALL  DIASNAVEGADOS  NOTICIASLIDAS  VISITAS_CAPA  \\\n",
       "3747                    10             11              0            64   \n",
       "2636                     0              1              1             0   \n",
       "3060                     0             16              0            20   \n",
       "3384                     0              2              2             0   \n",
       "5129                     0              1              1             0   \n",
       "271                      0              0              0             0   \n",
       "4210                    22             34              0            99   \n",
       "1432                     0              2              0             2   \n",
       "375                     16              0              0             0   \n",
       "3850                     0              7              4             1   \n",
       "\n",
       "     USOU_APP     PERFIL PES_GENERO  PES_NASCIMENTO_DATA ATR_PF_GEO_RENDA_FAM  \n",
       "3747      SIM  PROSPECT           M                  NaN       DE 3SM ATE 4SM  \n",
       "2636      NAO  PROSPECT           F  12.12.1958 00:00:00      DE 8SM ATE 14SM  \n",
       "3060      NAO  PROSPECT           M                  NaN                  NaN  \n",
       "3384      NAO  PROSPECT           M  23.02.1989 00:00:00     DE 14SM ATE 25SM  \n",
       "5129      NAO  PROSPECT           M                  NaN       DE 4SM ATE 8SM  \n",
       "271       NAO  ASSINANTE          F  01.01.1900 00:00:00      DE 8SM ATE 14SM  \n",
       "4210      SIM  PROSPECT           M                  NaN                  NaN  \n",
       "1432      SIM  PROSPECT           M                  NaN       DE 2SM ATE 3SM  \n",
       "375       NAO  ASSINANTE          M  01.01.1900 00:00:00       DE 3SM ATE 4SM  \n",
       "3850      NAO  PROSPECT           M                  NaN       DE 4SM ATE 8SM  "
      ]
     },
     "execution_count": 365,
     "metadata": {},
     "output_type": "execute_result"
    }
   ],
   "source": [
    "df.sample(10)"
   ]
  },
  {
   "cell_type": "markdown",
   "metadata": {},
   "source": [
    "***"
   ]
  },
  {
   "cell_type": "markdown",
   "metadata": {},
   "source": [
    "#### Definição"
   ]
  },
  {
   "cell_type": "markdown",
   "metadata": {},
   "source": [
    "Trocar o tipo de dado da coluna PES_NASCIMENTO_DATA para timestamp."
   ]
  },
  {
   "cell_type": "markdown",
   "metadata": {},
   "source": [
    "#### Código"
   ]
  },
  {
   "cell_type": "code",
   "execution_count": 366,
   "metadata": {},
   "outputs": [],
   "source": [
    "df['PES_NASCIMENTO_DATA'] = pd.to_datetime(df['PES_NASCIMENTO_DATA'], errors = 'coerce')"
   ]
  },
  {
   "cell_type": "markdown",
   "metadata": {},
   "source": [
    "#### Teste"
   ]
  },
  {
   "cell_type": "code",
   "execution_count": 367,
   "metadata": {},
   "outputs": [
    {
     "name": "stdout",
     "output_type": "stream",
     "text": [
      "<class 'pandas.core.frame.DataFrame'>\n",
      "Int64Index: 5600 entries, 0 to 5599\n",
      "Data columns (total 9 columns):\n",
      "QT_TOTAL_HIT_PAYWALL    5600 non-null int64\n",
      "DIASNAVEGADOS           5600 non-null int64\n",
      "NOTICIASLIDAS           5600 non-null int64\n",
      "VISITAS_CAPA            5600 non-null int64\n",
      "USOU_APP                5600 non-null object\n",
      "PERFIL                  5600 non-null object\n",
      "PES_GENERO              5600 non-null object\n",
      "PES_NASCIMENTO_DATA     1925 non-null datetime64[ns]\n",
      "ATR_PF_GEO_RENDA_FAM    2648 non-null object\n",
      "dtypes: datetime64[ns](1), int64(4), object(4)\n",
      "memory usage: 437.5+ KB\n"
     ]
    }
   ],
   "source": [
    "df.info()"
   ]
  },
  {
   "cell_type": "markdown",
   "metadata": {},
   "source": [
    "***"
   ]
  },
  {
   "cell_type": "markdown",
   "metadata": {},
   "source": [
    "#### Definição"
   ]
  },
  {
   "cell_type": "markdown",
   "metadata": {},
   "source": [
    "Corrigir datas inválidas da coluna PES_NASCIMENTO_DATA"
   ]
  },
  {
   "cell_type": "markdown",
   "metadata": {},
   "source": [
    "#### Código"
   ]
  },
  {
   "cell_type": "code",
   "execution_count": 368,
   "metadata": {},
   "outputs": [],
   "source": [
    "df['PES_NASCIMENTO_DATA'][(df.PES_NASCIMENTO_DATA > '2001-06-15') | (df.PES_NASCIMENTO_DATA < '1919-06-15')] = np.nan"
   ]
  },
  {
   "cell_type": "markdown",
   "metadata": {},
   "source": [
    "#### Teste"
   ]
  },
  {
   "cell_type": "code",
   "execution_count": 369,
   "metadata": {},
   "outputs": [
    {
     "data": {
      "text/html": [
       "<div>\n",
       "<style scoped>\n",
       "    .dataframe tbody tr th:only-of-type {\n",
       "        vertical-align: middle;\n",
       "    }\n",
       "\n",
       "    .dataframe tbody tr th {\n",
       "        vertical-align: top;\n",
       "    }\n",
       "\n",
       "    .dataframe thead th {\n",
       "        text-align: right;\n",
       "    }\n",
       "</style>\n",
       "<table border=\"1\" class=\"dataframe\">\n",
       "  <thead>\n",
       "    <tr style=\"text-align: right;\">\n",
       "      <th></th>\n",
       "      <th>QT_TOTAL_HIT_PAYWALL</th>\n",
       "      <th>DIASNAVEGADOS</th>\n",
       "      <th>NOTICIASLIDAS</th>\n",
       "      <th>VISITAS_CAPA</th>\n",
       "      <th>USOU_APP</th>\n",
       "      <th>PERFIL</th>\n",
       "      <th>PES_GENERO</th>\n",
       "      <th>PES_NASCIMENTO_DATA</th>\n",
       "      <th>ATR_PF_GEO_RENDA_FAM</th>\n",
       "    </tr>\n",
       "  </thead>\n",
       "  <tbody>\n",
       "  </tbody>\n",
       "</table>\n",
       "</div>"
      ],
      "text/plain": [
       "Empty DataFrame\n",
       "Columns: [QT_TOTAL_HIT_PAYWALL, DIASNAVEGADOS, NOTICIASLIDAS, VISITAS_CAPA, USOU_APP, PERFIL, PES_GENERO, PES_NASCIMENTO_DATA, ATR_PF_GEO_RENDA_FAM]\n",
       "Index: []"
      ]
     },
     "execution_count": 369,
     "metadata": {},
     "output_type": "execute_result"
    }
   ],
   "source": [
    "df[(df.PES_NASCIMENTO_DATA > '2001-06-15') | (df.PES_NASCIMENTO_DATA < '1919-06-15')]"
   ]
  },
  {
   "cell_type": "markdown",
   "metadata": {},
   "source": [
    "***"
   ]
  },
  {
   "cell_type": "markdown",
   "metadata": {},
   "source": [
    "#### Definição"
   ]
  },
  {
   "cell_type": "markdown",
   "metadata": {},
   "source": [
    "Preencher dados ausentes com `None`"
   ]
  },
  {
   "cell_type": "markdown",
   "metadata": {},
   "source": [
    "#### Código"
   ]
  },
  {
   "cell_type": "code",
   "execution_count": 370,
   "metadata": {},
   "outputs": [],
   "source": [
    "df = df.astype(object).replace(np.nan, 'None')"
   ]
  },
  {
   "cell_type": "markdown",
   "metadata": {},
   "source": [
    "#### Teste"
   ]
  },
  {
   "cell_type": "code",
   "execution_count": 371,
   "metadata": {},
   "outputs": [
    {
     "data": {
      "text/html": [
       "<div>\n",
       "<style scoped>\n",
       "    .dataframe tbody tr th:only-of-type {\n",
       "        vertical-align: middle;\n",
       "    }\n",
       "\n",
       "    .dataframe tbody tr th {\n",
       "        vertical-align: top;\n",
       "    }\n",
       "\n",
       "    .dataframe thead th {\n",
       "        text-align: right;\n",
       "    }\n",
       "</style>\n",
       "<table border=\"1\" class=\"dataframe\">\n",
       "  <thead>\n",
       "    <tr style=\"text-align: right;\">\n",
       "      <th></th>\n",
       "      <th>QT_TOTAL_HIT_PAYWALL</th>\n",
       "      <th>DIASNAVEGADOS</th>\n",
       "      <th>NOTICIASLIDAS</th>\n",
       "      <th>VISITAS_CAPA</th>\n",
       "      <th>USOU_APP</th>\n",
       "      <th>PERFIL</th>\n",
       "      <th>PES_GENERO</th>\n",
       "      <th>PES_NASCIMENTO_DATA</th>\n",
       "      <th>ATR_PF_GEO_RENDA_FAM</th>\n",
       "    </tr>\n",
       "  </thead>\n",
       "  <tbody>\n",
       "    <tr>\n",
       "      <th>405</th>\n",
       "      <td>0</td>\n",
       "      <td>0</td>\n",
       "      <td>0</td>\n",
       "      <td>0</td>\n",
       "      <td>NAO</td>\n",
       "      <td>ASSINANTE</td>\n",
       "      <td>F</td>\n",
       "      <td>None</td>\n",
       "      <td>None</td>\n",
       "    </tr>\n",
       "    <tr>\n",
       "      <th>2222</th>\n",
       "      <td>0</td>\n",
       "      <td>1</td>\n",
       "      <td>1</td>\n",
       "      <td>0</td>\n",
       "      <td>NAO</td>\n",
       "      <td>PROSPECT</td>\n",
       "      <td>F</td>\n",
       "      <td>None</td>\n",
       "      <td>None</td>\n",
       "    </tr>\n",
       "    <tr>\n",
       "      <th>4357</th>\n",
       "      <td>0</td>\n",
       "      <td>21</td>\n",
       "      <td>25</td>\n",
       "      <td>0</td>\n",
       "      <td>NAO</td>\n",
       "      <td>PROSPECT</td>\n",
       "      <td>F</td>\n",
       "      <td>1987-05-08 00:00:00</td>\n",
       "      <td>DE 8SM ATE 14SM</td>\n",
       "    </tr>\n",
       "    <tr>\n",
       "      <th>2152</th>\n",
       "      <td>0</td>\n",
       "      <td>2</td>\n",
       "      <td>1</td>\n",
       "      <td>0</td>\n",
       "      <td>NAO</td>\n",
       "      <td>PROSPECT</td>\n",
       "      <td>F</td>\n",
       "      <td>None</td>\n",
       "      <td>DE 3SM ATE 4SM</td>\n",
       "    </tr>\n",
       "    <tr>\n",
       "      <th>3166</th>\n",
       "      <td>46</td>\n",
       "      <td>29</td>\n",
       "      <td>10</td>\n",
       "      <td>0</td>\n",
       "      <td>NAO</td>\n",
       "      <td>PROSPECT</td>\n",
       "      <td>M</td>\n",
       "      <td>1980-08-30 00:00:00</td>\n",
       "      <td>ACIMA DE 25SM</td>\n",
       "    </tr>\n",
       "    <tr>\n",
       "      <th>4673</th>\n",
       "      <td>0</td>\n",
       "      <td>1</td>\n",
       "      <td>0</td>\n",
       "      <td>0</td>\n",
       "      <td>NAO</td>\n",
       "      <td>PROSPECT</td>\n",
       "      <td>M</td>\n",
       "      <td>1979-11-23 00:00:00</td>\n",
       "      <td>DE 8SM ATE 14SM</td>\n",
       "    </tr>\n",
       "    <tr>\n",
       "      <th>1330</th>\n",
       "      <td>7</td>\n",
       "      <td>10</td>\n",
       "      <td>0</td>\n",
       "      <td>48</td>\n",
       "      <td>SIM</td>\n",
       "      <td>PROSPECT</td>\n",
       "      <td>M</td>\n",
       "      <td>None</td>\n",
       "      <td>None</td>\n",
       "    </tr>\n",
       "    <tr>\n",
       "      <th>3027</th>\n",
       "      <td>2</td>\n",
       "      <td>27</td>\n",
       "      <td>17</td>\n",
       "      <td>42</td>\n",
       "      <td>SIM</td>\n",
       "      <td>PROSPECT</td>\n",
       "      <td>M</td>\n",
       "      <td>None</td>\n",
       "      <td>None</td>\n",
       "    </tr>\n",
       "    <tr>\n",
       "      <th>1430</th>\n",
       "      <td>0</td>\n",
       "      <td>22</td>\n",
       "      <td>58</td>\n",
       "      <td>0</td>\n",
       "      <td>NAO</td>\n",
       "      <td>PROSPECT</td>\n",
       "      <td>M</td>\n",
       "      <td>1975-09-08 00:00:00</td>\n",
       "      <td>DE 14SM ATE 25SM</td>\n",
       "    </tr>\n",
       "    <tr>\n",
       "      <th>4180</th>\n",
       "      <td>0</td>\n",
       "      <td>1</td>\n",
       "      <td>0</td>\n",
       "      <td>1</td>\n",
       "      <td>NAO</td>\n",
       "      <td>PROSPECT</td>\n",
       "      <td>F</td>\n",
       "      <td>None</td>\n",
       "      <td>None</td>\n",
       "    </tr>\n",
       "    <tr>\n",
       "      <th>1291</th>\n",
       "      <td>0</td>\n",
       "      <td>1</td>\n",
       "      <td>6</td>\n",
       "      <td>0</td>\n",
       "      <td>NAO</td>\n",
       "      <td>PROSPECT</td>\n",
       "      <td>F</td>\n",
       "      <td>None</td>\n",
       "      <td>DE 4SM ATE 8SM</td>\n",
       "    </tr>\n",
       "    <tr>\n",
       "      <th>1943</th>\n",
       "      <td>0</td>\n",
       "      <td>5</td>\n",
       "      <td>3</td>\n",
       "      <td>0</td>\n",
       "      <td>NAO</td>\n",
       "      <td>PROSPECT</td>\n",
       "      <td>M</td>\n",
       "      <td>None</td>\n",
       "      <td>None</td>\n",
       "    </tr>\n",
       "    <tr>\n",
       "      <th>2275</th>\n",
       "      <td>0</td>\n",
       "      <td>1</td>\n",
       "      <td>1</td>\n",
       "      <td>0</td>\n",
       "      <td>NAO</td>\n",
       "      <td>PROSPECT</td>\n",
       "      <td>F</td>\n",
       "      <td>None</td>\n",
       "      <td>None</td>\n",
       "    </tr>\n",
       "    <tr>\n",
       "      <th>2911</th>\n",
       "      <td>0</td>\n",
       "      <td>1</td>\n",
       "      <td>2</td>\n",
       "      <td>0</td>\n",
       "      <td>NAO</td>\n",
       "      <td>PROSPECT</td>\n",
       "      <td>I</td>\n",
       "      <td>None</td>\n",
       "      <td>None</td>\n",
       "    </tr>\n",
       "    <tr>\n",
       "      <th>1334</th>\n",
       "      <td>3</td>\n",
       "      <td>17</td>\n",
       "      <td>12</td>\n",
       "      <td>0</td>\n",
       "      <td>NAO</td>\n",
       "      <td>PROSPECT</td>\n",
       "      <td>M</td>\n",
       "      <td>None</td>\n",
       "      <td>None</td>\n",
       "    </tr>\n",
       "  </tbody>\n",
       "</table>\n",
       "</div>"
      ],
      "text/plain": [
       "      QT_TOTAL_HIT_PAYWALL  DIASNAVEGADOS  NOTICIASLIDAS  VISITAS_CAPA  \\\n",
       "405                      0              0              0             0   \n",
       "2222                     0              1              1             0   \n",
       "4357                     0             21             25             0   \n",
       "2152                     0              2              1             0   \n",
       "3166                    46             29             10             0   \n",
       "4673                     0              1              0             0   \n",
       "1330                     7             10              0            48   \n",
       "3027                     2             27             17            42   \n",
       "1430                     0             22             58             0   \n",
       "4180                     0              1              0             1   \n",
       "1291                     0              1              6             0   \n",
       "1943                     0              5              3             0   \n",
       "2275                     0              1              1             0   \n",
       "2911                     0              1              2             0   \n",
       "1334                     3             17             12             0   \n",
       "\n",
       "     USOU_APP     PERFIL PES_GENERO  PES_NASCIMENTO_DATA ATR_PF_GEO_RENDA_FAM  \n",
       "405       NAO  ASSINANTE          F                 None                 None  \n",
       "2222      NAO  PROSPECT           F                 None                 None  \n",
       "4357      NAO  PROSPECT           F  1987-05-08 00:00:00      DE 8SM ATE 14SM  \n",
       "2152      NAO  PROSPECT           F                 None       DE 3SM ATE 4SM  \n",
       "3166      NAO  PROSPECT           M  1980-08-30 00:00:00        ACIMA DE 25SM  \n",
       "4673      NAO  PROSPECT           M  1979-11-23 00:00:00      DE 8SM ATE 14SM  \n",
       "1330      SIM  PROSPECT           M                 None                 None  \n",
       "3027      SIM  PROSPECT           M                 None                 None  \n",
       "1430      NAO  PROSPECT           M  1975-09-08 00:00:00     DE 14SM ATE 25SM  \n",
       "4180      NAO  PROSPECT           F                 None                 None  \n",
       "1291      NAO  PROSPECT           F                 None       DE 4SM ATE 8SM  \n",
       "1943      NAO  PROSPECT           M                 None                 None  \n",
       "2275      NAO  PROSPECT           F                 None                 None  \n",
       "2911      NAO  PROSPECT           I                 None                 None  \n",
       "1334      NAO  PROSPECT           M                 None                 None  "
      ]
     },
     "execution_count": 371,
     "metadata": {},
     "output_type": "execute_result"
    }
   ],
   "source": [
    "df.sample(15)"
   ]
  },
  {
   "cell_type": "markdown",
   "metadata": {},
   "source": [
    "***"
   ]
  },
  {
   "cell_type": "markdown",
   "metadata": {},
   "source": [
    "## Análise exploratória"
   ]
  },
  {
   "cell_type": "markdown",
   "metadata": {},
   "source": [
    "### Distribuição de variáveis quantitativas"
   ]
  },
  {
   "cell_type": "code",
   "execution_count": 372,
   "metadata": {},
   "outputs": [
    {
     "name": "stdout",
     "output_type": "stream",
     "text": [
      "Distribuição de QT_TOTAL_HIT_PAYWALL\n"
     ]
    },
    {
     "data": {
      "image/png": "[encoded data removed]",
      "text/plain": [
       "<Figure size 432x288 with 1 Axes>"
      ]
     },
     "metadata": {
      "needs_background": "light"
     },
     "output_type": "display_data"
    },
    {
     "name": "stdout",
     "output_type": "stream",
     "text": [
      "Distribuição de DIASNAVEGADOS\n"
     ]
    },
    {
     "data": {
      "image/png": "[encoded data removed]",
      "text/plain": [
       "<Figure size 432x288 with 1 Axes>"
      ]
     },
     "metadata": {
      "needs_background": "light"
     },
     "output_type": "display_data"
    },
    {
     "name": "stdout",
     "output_type": "stream",
     "text": [
      "Distribuição de NOTICIASLIDAS\n"
     ]
    },
    {
     "data": {
      "image/png": "[encoded data removed]",
      "text/plain": [
       "<Figure size 432x288 with 1 Axes>"
      ]
     },
     "metadata": {
      "needs_background": "light"
     },
     "output_type": "display_data"
    },
    {
     "name": "stdout",
     "output_type": "stream",
     "text": [
      "Distribuição de VISITAS_CAPA\n"
     ]
    },
    {
     "data": {
      "image/png": "[encoded data removed]",
      "text/plain": [
       "<Figure size 432x288 with 1 Axes>"
      ]
     },
     "metadata": {
      "needs_background": "light"
     },
     "output_type": "display_data"
    }
   ],
   "source": [
    "# Para cada coluna mencionada, gera e exibe a sua distribuição\n",
    "for col in ['QT_TOTAL_HIT_PAYWALL', 'DIASNAVEGADOS', 'NOTICIASLIDAS', 'VISITAS_CAPA']:\n",
    "    hist = df[col].hist(bins=20)\n",
    "    print(\"Distribuição de {}\".format(col))\n",
    "    plt.show()"
   ]
  },
  {
   "cell_type": "markdown",
   "metadata": {},
   "source": [
    "### Tratamento de outliers"
   ]
  },
  {
   "cell_type": "code",
   "execution_count": 373,
   "metadata": {},
   "outputs": [
    {
     "data": {
      "image/png": "[encoded data removed]",
      "text/plain": [
       "<Figure size 432x288 with 1 Axes>"
      ]
     },
     "metadata": {
      "needs_background": "light"
     },
     "output_type": "display_data"
    },
    {
     "data": {
      "image/png": "[encoded data removed]",
      "text/plain": [
       "<Figure size 432x288 with 1 Axes>"
      ]
     },
     "metadata": {
      "needs_background": "light"
     },
     "output_type": "display_data"
    },
    {
     "data": {
      "image/png": "[encoded data removed]",
      "text/plain": [
       "<Figure size 432x288 with 1 Axes>"
      ]
     },
     "metadata": {
      "needs_background": "light"
     },
     "output_type": "display_data"
    },
    {
     "data": {
      "image/png": "[encoded data removed]",
      "text/plain": [
       "<Figure size 432x288 with 1 Axes>"
      ]
     },
     "metadata": {
      "needs_background": "light"
     },
     "output_type": "display_data"
    }
   ],
   "source": [
    "# Função que encontra os outliers e os substitui pela mediana correspondentes\n",
    "def outliers(col):\n",
    "    q1, q3 = np.percentile(df[col],[2.5,97.5])\n",
    "    iqr = q3 - q1\n",
    "    lower_bound = q1 -(1.5 * iqr) \n",
    "    upper_bound = q3 +(1.5 * iqr)\n",
    "    x = df[(df[col] > lower_bound) | (df[col] < upper_bound)][col].median()\n",
    "    df[col][(df[col] < lower_bound) | (df[col] > upper_bound)] = x\n",
    "    hist = df[col].hist(bins=20)\n",
    "    plt.show()\n",
    "\n",
    "for col in ['QT_TOTAL_HIT_PAYWALL', 'DIASNAVEGADOS', 'NOTICIASLIDAS', 'VISITAS_CAPA']:\n",
    "    outliers(col)"
   ]
  },
  {
   "cell_type": "markdown",
   "metadata": {},
   "source": [
    "***"
   ]
  },
  {
   "cell_type": "markdown",
   "metadata": {},
   "source": [
    "### Gênero\n",
    "\n",
    "- Qual a porcentagem de pessoas por gênero?"
   ]
  },
  {
   "cell_type": "code",
   "execution_count": 374,
   "metadata": {},
   "outputs": [
    {
     "data": {
      "image/png": "[encoded data removed]",
      "text/plain": [
       "<Figure size 864x432 with 1 Axes>"
      ]
     },
     "metadata": {
      "needs_background": "light"
     },
     "output_type": "display_data"
    }
   ],
   "source": [
    "df_temp = df['PES_GENERO'].value_counts(normalize = True)\n",
    "fig,ax = plt.subplots(figsize = (12,6))\n",
    "ax.bar(df_temp.index, df_temp.values*100, width = 0.8)\n",
    "ax.set_ylabel('%')\n",
    "ax.set_xlabel('Gênero')\n",
    "plt.title(\"Porcentagem de pessoas por gênero\")\n",
    "plt.show()"
   ]
  },
  {
   "cell_type": "markdown",
   "metadata": {},
   "source": [
    "### Uso do app\n",
    "\n",
    "- Qual a porcentagem de pessoas que utilizam o app na amostra?"
   ]
  },
  {
   "cell_type": "code",
   "execution_count": 375,
   "metadata": {},
   "outputs": [
    {
     "data": {
      "image/png": "[encoded data removed]",
      "text/plain": [
       "<Figure size 864x432 with 1 Axes>"
      ]
     },
     "metadata": {
      "needs_background": "light"
     },
     "output_type": "display_data"
    }
   ],
   "source": [
    "df_temp = df['USOU_APP'].value_counts(normalize = True)\n",
    "fig,ax = plt.subplots(figsize = (12,6))\n",
    "ax.bar(df_temp.index, df_temp.values*100, width = 0.8)\n",
    "ax.set_ylabel('%')\n",
    "ax.set_xlabel('Usa o app')\n",
    "plt.title(\"Porcentagem de pessoas que utilizam o app\")\n",
    "plt.show()"
   ]
  },
  {
   "cell_type": "markdown",
   "metadata": {},
   "source": [
    "***"
   ]
  },
  {
   "cell_type": "markdown",
   "metadata": {},
   "source": [
    "### Assinantes vs Prospects\n",
    "- Qual a porcentagem de pessoas que são assinantes?"
   ]
  },
  {
   "cell_type": "code",
   "execution_count": 376,
   "metadata": {},
   "outputs": [
    {
     "data": {
      "image/png": "[encoded data removed]",
      "text/plain": [
       "<Figure size 864x432 with 1 Axes>"
      ]
     },
     "metadata": {
      "needs_background": "light"
     },
     "output_type": "display_data"
    }
   ],
   "source": [
    "df_temp = df['PERFIL'].value_counts(normalize = True)\n",
    "fig,ax = plt.subplots(figsize = (12,6))\n",
    "ax.bar(df_temp.index, df_temp.values*100, width = 0.8)\n",
    "ax.set_ylabel('%')\n",
    "ax.set_xlabel('Perfil')\n",
    "plt.title(\"Porcentagem de pessoas que são assinantes\")\n",
    "plt.show()"
   ]
  },
  {
   "cell_type": "markdown",
   "metadata": {},
   "source": [
    "***"
   ]
  },
  {
   "cell_type": "markdown",
   "metadata": {},
   "source": [
    "### Distribuição de renda dos assinantes\n",
    "- Como é a distribuição de renda dos assinantes da amostra?"
   ]
  },
  {
   "cell_type": "code",
   "execution_count": 377,
   "metadata": {},
   "outputs": [
    {
     "data": {
      "image/png": "[encoded data removed]",
      "text/plain": [
       "<Figure size 1800x576 with 1 Axes>"
      ]
     },
     "metadata": {
      "needs_background": "light"
     },
     "output_type": "display_data"
    }
   ],
   "source": [
    "df_temp = df['ATR_PF_GEO_RENDA_FAM'][(df.PERFIL == 'ASSINANTE')].value_counts(normalize = True)\n",
    "df_temp = df_temp[['ATE 1SM', 'DE 2SM ATE 3SM', 'DE 3SM ATE 4SM', 'DE 4SM ATE 8SM', 'DE 8SM ATE 14SM', 'DE 14SM ATE 25SM', 'ACIMA DE 25SM']]\n",
    "fig,ax = plt.subplots(figsize = (25,8))\n",
    "ax.bar(df_temp.index, df_temp.values*100, width = 0.8)\n",
    "ax.set_ylabel('%')\n",
    "ax.set_xlabel('Faixa de renda')\n",
    "plt.title(\"Distribuição de renda dos assinantes\")\n",
    "plt.show()"
   ]
  },
  {
   "cell_type": "markdown",
   "metadata": {},
   "source": [
    "***"
   ]
  },
  {
   "cell_type": "markdown",
   "metadata": {},
   "source": [
    "### Correlações"
   ]
  },
  {
   "cell_type": "code",
   "execution_count": 378,
   "metadata": {},
   "outputs": [
    {
     "name": "stdout",
     "output_type": "stream",
     "text": [
      "                      QT_TOTAL_HIT_PAYWALL  DIASNAVEGADOS  NOTICIASLIDAS  \\\n",
      "QT_TOTAL_HIT_PAYWALL              1.000000       0.459818       0.061129   \n",
      "DIASNAVEGADOS                     0.459818       1.000000       0.539521   \n",
      "NOTICIASLIDAS                     0.061129       0.539521       1.000000   \n",
      "VISITAS_CAPA                      0.317927       0.666299       0.343202   \n",
      "\n",
      "                      VISITAS_CAPA  \n",
      "QT_TOTAL_HIT_PAYWALL      0.317927  \n",
      "DIASNAVEGADOS             0.666299  \n",
      "NOTICIASLIDAS             0.343202  \n",
      "VISITAS_CAPA              1.000000  \n"
     ]
    }
   ],
   "source": [
    "print(df.corr())"
   ]
  },
  {
   "cell_type": "markdown",
   "metadata": {},
   "source": [
    "***"
   ]
  },
  {
   "cell_type": "markdown",
   "metadata": {},
   "source": [
    "## Pré-procesamento"
   ]
  },
  {
   "cell_type": "markdown",
   "metadata": {},
   "source": [
    "#### Divisão de features e target"
   ]
  },
  {
   "cell_type": "code",
   "execution_count": 379,
   "metadata": {},
   "outputs": [],
   "source": [
    "target = df['PERFIL']\n",
    "features = df.drop('PERFIL', axis = 1)"
   ]
  },
  {
   "cell_type": "markdown",
   "metadata": {},
   "source": [
    "***"
   ]
  },
  {
   "cell_type": "markdown",
   "metadata": {},
   "source": [
    "#### Transformação de data de nascimento para idade"
   ]
  },
  {
   "cell_type": "code",
   "execution_count": 380,
   "metadata": {},
   "outputs": [],
   "source": [
    "# Função para calcular a idade baseada na diferença entre a data do dia atual e a data do nascimento\n",
    "# Retorna a idade em um número inteiro\n",
    "def calcula_idade(nascimento):\n",
    "    nascimento = nascimento.date()\n",
    "    hoje = date.today()\n",
    "    return hoje.year - nascimento.year - ((hoje.month, hoje.day) < (nascimento.month, nascimento.day))\n",
    "\n",
    "# Aplica a função para na variável da data de nascimento\n",
    "features['IDADE'] = pd.to_datetime(features['PES_NASCIMENTO_DATA'], errors = 'coerce').apply(calcula_idade)\n",
    "\n",
    "# Remove a coluna da data de nascimento\n",
    "features = features.drop('PES_NASCIMENTO_DATA', axis = 1)\n",
    "\n",
    "# Preenche os dados ausentes com a média das idades\n",
    "features['IDADE'] = features['IDADE'].fillna(features['IDADE'].mean())"
   ]
  },
  {
   "cell_type": "markdown",
   "metadata": {},
   "source": [
    "#### Distribuição de idade"
   ]
  },
  {
   "cell_type": "code",
   "execution_count": 381,
   "metadata": {},
   "outputs": [
    {
     "data": {
      "text/plain": [
       "<matplotlib.axes._subplots.AxesSubplot at 0x111173358>"
      ]
     },
     "execution_count": 381,
     "metadata": {},
     "output_type": "execute_result"
    },
    {
     "data": {
      "image/png": "[encoded data removed]",
      "text/plain": [
       "<Figure size 432x288 with 1 Axes>"
      ]
     },
     "metadata": {
      "needs_background": "light"
     },
     "output_type": "display_data"
    }
   ],
   "source": [
    "features['IDADE'].hist()"
   ]
  },
  {
   "cell_type": "markdown",
   "metadata": {},
   "source": [
    "***"
   ]
  },
  {
   "cell_type": "markdown",
   "metadata": {},
   "source": [
    "#### Normalização"
   ]
  },
  {
   "cell_type": "code",
   "execution_count": 382,
   "metadata": {},
   "outputs": [
    {
     "data": {
      "text/html": [
       "<div>\n",
       "<style scoped>\n",
       "    .dataframe tbody tr th:only-of-type {\n",
       "        vertical-align: middle;\n",
       "    }\n",
       "\n",
       "    .dataframe tbody tr th {\n",
       "        vertical-align: top;\n",
       "    }\n",
       "\n",
       "    .dataframe thead th {\n",
       "        text-align: right;\n",
       "    }\n",
       "</style>\n",
       "<table border=\"1\" class=\"dataframe\">\n",
       "  <thead>\n",
       "    <tr style=\"text-align: right;\">\n",
       "      <th></th>\n",
       "      <th>QT_TOTAL_HIT_PAYWALL</th>\n",
       "      <th>DIASNAVEGADOS</th>\n",
       "      <th>NOTICIASLIDAS</th>\n",
       "      <th>VISITAS_CAPA</th>\n",
       "      <th>USOU_APP</th>\n",
       "      <th>PES_GENERO</th>\n",
       "      <th>ATR_PF_GEO_RENDA_FAM</th>\n",
       "      <th>IDADE</th>\n",
       "    </tr>\n",
       "  </thead>\n",
       "  <tbody>\n",
       "    <tr>\n",
       "      <th>0</th>\n",
       "      <td>0.000000</td>\n",
       "      <td>0.000000</td>\n",
       "      <td>0.000000</td>\n",
       "      <td>0.000000</td>\n",
       "      <td>NAO</td>\n",
       "      <td>F</td>\n",
       "      <td>DE 4SM ATE 8SM</td>\n",
       "      <td>0.246914</td>\n",
       "    </tr>\n",
       "    <tr>\n",
       "      <th>1</th>\n",
       "      <td>0.007576</td>\n",
       "      <td>0.383333</td>\n",
       "      <td>0.000000</td>\n",
       "      <td>0.428402</td>\n",
       "      <td>SIM</td>\n",
       "      <td>M</td>\n",
       "      <td>DE 3SM ATE 4SM</td>\n",
       "      <td>0.301414</td>\n",
       "    </tr>\n",
       "    <tr>\n",
       "      <th>2</th>\n",
       "      <td>0.037879</td>\n",
       "      <td>0.266667</td>\n",
       "      <td>0.026829</td>\n",
       "      <td>0.004734</td>\n",
       "      <td>NAO</td>\n",
       "      <td>M</td>\n",
       "      <td>None</td>\n",
       "      <td>0.301414</td>\n",
       "    </tr>\n",
       "    <tr>\n",
       "      <th>3</th>\n",
       "      <td>0.068182</td>\n",
       "      <td>0.216667</td>\n",
       "      <td>0.019512</td>\n",
       "      <td>0.029586</td>\n",
       "      <td>SIM</td>\n",
       "      <td>F</td>\n",
       "      <td>ACIMA DE 25SM</td>\n",
       "      <td>0.301414</td>\n",
       "    </tr>\n",
       "    <tr>\n",
       "      <th>4</th>\n",
       "      <td>0.007576</td>\n",
       "      <td>0.016667</td>\n",
       "      <td>0.000000</td>\n",
       "      <td>0.010651</td>\n",
       "      <td>SIM</td>\n",
       "      <td>M</td>\n",
       "      <td>DE 4SM ATE 8SM</td>\n",
       "      <td>0.283951</td>\n",
       "    </tr>\n",
       "  </tbody>\n",
       "</table>\n",
       "</div>"
      ],
      "text/plain": [
       "   QT_TOTAL_HIT_PAYWALL  DIASNAVEGADOS  NOTICIASLIDAS  VISITAS_CAPA USOU_APP  \\\n",
       "0              0.000000       0.000000       0.000000      0.000000      NAO   \n",
       "1              0.007576       0.383333       0.000000      0.428402      SIM   \n",
       "2              0.037879       0.266667       0.026829      0.004734      NAO   \n",
       "3              0.068182       0.216667       0.019512      0.029586      SIM   \n",
       "4              0.007576       0.016667       0.000000      0.010651      SIM   \n",
       "\n",
       "  PES_GENERO ATR_PF_GEO_RENDA_FAM     IDADE  \n",
       "0          F       DE 4SM ATE 8SM  0.246914  \n",
       "1          M       DE 3SM ATE 4SM  0.301414  \n",
       "2          M                 None  0.301414  \n",
       "3          F        ACIMA DE 25SM  0.301414  \n",
       "4          M       DE 4SM ATE 8SM  0.283951  "
      ]
     },
     "execution_count": 382,
     "metadata": {},
     "output_type": "execute_result"
    }
   ],
   "source": [
    "scaler = MinMaxScaler()\n",
    "columns = ['QT_TOTAL_HIT_PAYWALL', 'DIASNAVEGADOS', 'NOTICIASLIDAS', 'VISITAS_CAPA', 'IDADE']\n",
    "\n",
    "# Aplica a normalização nas colunas mencionadas\n",
    "features[columns] = scaler.fit_transform(features[columns])\n",
    "\n",
    "features.head()"
   ]
  },
  {
   "cell_type": "markdown",
   "metadata": {},
   "source": [
    "***"
   ]
  },
  {
   "cell_type": "markdown",
   "metadata": {},
   "source": [
    "#### One hot encoding"
   ]
  },
  {
   "cell_type": "code",
   "execution_count": 383,
   "metadata": {},
   "outputs": [],
   "source": [
    "features = pd.get_dummies(features)\n",
    "\n",
    "target = target.replace({'PROSPECT ':0, 'ASSINANTE':1})"
   ]
  },
  {
   "cell_type": "markdown",
   "metadata": {},
   "source": [
    "***"
   ]
  },
  {
   "cell_type": "markdown",
   "metadata": {},
   "source": [
    "#### Split em dataset de treino e teste"
   ]
  },
  {
   "cell_type": "code",
   "execution_count": 384,
   "metadata": {},
   "outputs": [
    {
     "name": "stdout",
     "output_type": "stream",
     "text": [
      "Dataset de treino tem 4480 registros.\n",
      "Dataset de teste tem 1120 registros.\n"
     ]
    }
   ],
   "source": [
    "X_train, X_test, y_train, y_test = train_test_split(features, target, test_size = 0.2, random_state = 0)\n",
    "\n",
    "print(\"Dataset de treino tem {} registros.\".format(X_train.shape[0]))\n",
    "print(\"Dataset de teste tem {} registros.\".format(X_test.shape[0]))"
   ]
  },
  {
   "cell_type": "markdown",
   "metadata": {},
   "source": [
    "***"
   ]
  },
  {
   "cell_type": "markdown",
   "metadata": {},
   "source": [
    "## Benchmark"
   ]
  },
  {
   "cell_type": "markdown",
   "metadata": {},
   "source": [
    "#### Aplicação dos dados em uma árvore de decisão"
   ]
  },
  {
   "cell_type": "code",
   "execution_count": 385,
   "metadata": {},
   "outputs": [
    {
     "name": "stdout",
     "output_type": "stream",
     "text": [
      "DecisionTreeClassifier treinado.\n",
      "acc_train: 0.996875\n",
      "acc_test: 0.9089285714285714\n",
      "f_train: 0.9849785407725321\n",
      "f_test: 0.6076923076923078\n"
     ]
    }
   ],
   "source": [
    "# Treinamento do benchmark com uma árvore de decisão\n",
    "learner = tree.DecisionTreeClassifier()\n",
    "learner = learner.fit(X_train, y_train)\n",
    "\n",
    "predictions_test = learner.predict(X_test)\n",
    "predictions_train = learner.predict(X_train)\n",
    "\n",
    "print(\"{} treinado.\".format(learner.__class__.__name__))\n",
    "print(\"acc_train: {}\".format(accuracy_score(y_train, predictions_train)))\n",
    "print(\"acc_test: {}\".format(accuracy_score(y_test, predictions_test)))\n",
    "print(\"f_train: {}\".format(f1_score(y_train, predictions_train)))\n",
    "print(\"f_test: {}\".format(f1_score(y_test, predictions_test)))"
   ]
  },
  {
   "cell_type": "markdown",
   "metadata": {},
   "source": [
    "***"
   ]
  },
  {
   "cell_type": "markdown",
   "metadata": {},
   "source": [
    "## Modelo"
   ]
  },
  {
   "cell_type": "markdown",
   "metadata": {},
   "source": [
    "#### Pipeline de treinamento e predição"
   ]
  },
  {
   "cell_type": "code",
   "execution_count": 386,
   "metadata": {},
   "outputs": [],
   "source": [
    "# Função para testar algoritmos de uma maneira fácil\n",
    "def train_predict(learner, X_train, y_train, X_test, y_test): \n",
    "    \n",
    "    results = {}\n",
    "\n",
    "    learner = learner.fit(X_train, y_train)\n",
    "    \n",
    "    predictions_test = learner.predict(X_test)\n",
    "    predictions_train = learner.predict(X_train)\n",
    "    \n",
    "    results['acc_train'] = accuracy_score(y_train, predictions_train)\n",
    "    results['acc_test'] = accuracy_score(y_test, predictions_test)\n",
    "    results['f_train'] = f1_score(y_train, predictions_train)\n",
    "    results['f_test'] = f1_score(y_test, predictions_test)\n",
    "    \n",
    "    print(\"{} treinado.\".format(learner.__class__.__name__))\n",
    "        \n",
    "    return results"
   ]
  },
  {
   "cell_type": "markdown",
   "metadata": {},
   "source": [
    "***"
   ]
  },
  {
   "cell_type": "markdown",
   "metadata": {},
   "source": [
    "#### Validação inicial do modelo"
   ]
  },
  {
   "cell_type": "code",
   "execution_count": 387,
   "metadata": {},
   "outputs": [
    {
     "name": "stdout",
     "output_type": "stream",
     "text": [
      "RandomForestClassifier treinado.\n",
      "GradientBoostingClassifier treinado.\n",
      "KNeighborsClassifier treinado.\n"
     ]
    },
    {
     "data": {
      "text/plain": [
       "{'RandomForestClassifier': {'acc_train': 0.9897321428571428,\n",
       "  'acc_test': 0.9464285714285714,\n",
       "  'f_train': 0.9491150442477876,\n",
       "  'f_test': 0.7115384615384616},\n",
       " 'GradientBoostingClassifier': {'acc_train': 0.9558035714285714,\n",
       "  'acc_test': 0.9508928571428571,\n",
       "  'f_train': 0.7367021276595745,\n",
       "  'f_test': 0.7236180904522613},\n",
       " 'KNeighborsClassifier': {'acc_train': 0.9455357142857143,\n",
       "  'acc_test': 0.9375,\n",
       "  'f_train': 0.6620498614958448,\n",
       "  'f_test': 0.6568627450980392}}"
      ]
     },
     "execution_count": 387,
     "metadata": {},
     "output_type": "execute_result"
    }
   ],
   "source": [
    "clf_A = RandomForestClassifier()\n",
    "clf_B = GradientBoostingClassifier()\n",
    "clf_C = KNeighborsClassifier()\n",
    "\n",
    "results = {}\n",
    "for clf in [clf_A, clf_B, clf_C]:\n",
    "    clf_name = clf.__class__.__name__\n",
    "    results[clf_name] = {}\n",
    "    results[clf_name] = train_predict(clf, X_train, y_train, X_test, y_test)\n",
    "\n",
    "results"
   ]
  },
  {
   "cell_type": "code",
   "execution_count": 388,
   "metadata": {},
   "outputs": [
    {
     "data": {
      "image/png": "[encoded data removed]",
      "text/plain": [
       "<Figure size 792x432 with 4 Axes>"
      ]
     },
     "metadata": {
      "needs_background": "light"
     },
     "output_type": "display_data"
    }
   ],
   "source": [
    "# Função para gerar o gráfico comparativo das métricas entre os algoritmos\n",
    "def evaluate(results):\n",
    "\n",
    "    fig, ax = plt.subplots(2, 2, figsize = (11,6))\n",
    "\n",
    "    bar_width = 0.34\n",
    "    colors = ['#A00000','#00A0A0','#00A000']\n",
    "    \n",
    "    for k, learner in enumerate(results.keys()):\n",
    "        for j, metric in enumerate(['acc_train', 'f_train', 'acc_test', 'f_test']):\n",
    "            ax[j//2, j%2].bar(0.12+1*k*bar_width, results[learner][metric], width = bar_width, color = colors[k])\n",
    "            ax[j//2, j%2].set_xlabel(\" \")\n",
    "            ax[j//2, j%2].set_xlim((-1, 2))\n",
    "\n",
    "    ax[0, 0].set_title(\"Acurácia no dataset de treino\")\n",
    "    ax[0, 1].set_title(\"F-score no dataset de treino\")\n",
    "    ax[1, 0].set_title(\"Acurácia no dataset de teste\")\n",
    "    ax[1, 1].set_title(\"F-score no dataset de teste\")\n",
    "    \n",
    "    ax[0, 0].set_ylim((0, 1))\n",
    "    ax[0, 1].set_ylim((0, 1))\n",
    "    ax[1, 0].set_ylim((0, 1))\n",
    "    ax[1, 1].set_ylim((0, 1))\n",
    "    \n",
    "    ax[0, 0].xaxis.set_major_locator(plt.NullLocator())\n",
    "    ax[0, 1].xaxis.set_major_locator(plt.NullLocator())\n",
    "    ax[1, 0].xaxis.set_major_locator(plt.NullLocator())\n",
    "    ax[1, 1].xaxis.set_major_locator(plt.NullLocator())\n",
    "    \n",
    "    patches = []\n",
    "    for i, learner in enumerate(results.keys()):\n",
    "        patches.append(mpatches.Patch(color = colors[i], label = learner))\n",
    "    plt.legend(handles = patches, bbox_to_anchor = (-0.15, 3.17), \\\n",
    "               loc = 'upper center', borderaxespad = 0., ncol = 3, fontsize = 'large')\n",
    "    \n",
    "    plt.suptitle(\"Métricas de performace nos três modelos\", fontsize = 16, y = 1.3)\n",
    "    plt.show()\n",
    "    \n",
    "evaluate(results)"
   ]
  },
  {
   "cell_type": "markdown",
   "metadata": {},
   "source": [
    "***"
   ]
  },
  {
   "cell_type": "markdown",
   "metadata": {},
   "source": [
    "#### Tuning do modelo"
   ]
  },
  {
   "cell_type": "code",
   "execution_count": 390,
   "metadata": {},
   "outputs": [
    {
     "name": "stdout",
     "output_type": "stream",
     "text": [
      "Modelo não-otimizado\n",
      "------\n",
      "Acurácia no dataset de teste: 0.9509\n",
      "F-score no dataset de teste: 0.7236\n",
      "\n",
      " Modelo otimizado\n",
      "------\n",
      "Acurácia final no dataset de teste: 0.9500\n",
      "F-score final no dataset de teste: 0.7358\n",
      "\n",
      " Modelo final\n",
      "------\n",
      "GradientBoostingClassifier(criterion='friedman_mse', init=None,\n",
      "              learning_rate=0.05, loss='deviance', max_depth=3,\n",
      "              max_features=None, max_leaf_nodes=None,\n",
      "              min_impurity_split=1e-07, min_samples_leaf=1,\n",
      "              min_samples_split=2, min_weight_fraction_leaf=0.0,\n",
      "              n_estimators=500, presort='auto', random_state=None,\n",
      "              subsample=0.5, verbose=0, warm_start=False)\n"
     ]
    }
   ],
   "source": [
    "clf = GradientBoostingClassifier()\n",
    "\n",
    "# Parâmetros e valores para serem testados no GridSearchCV\n",
    "parameters = {\n",
    "    'n_estimators': [100, 200, 500, 1000],\n",
    "    \"learning_rate\": [0.01, 0.05, 0.075, 0.1],\n",
    "    \"subsample\": [0.5, 0.8, 0.9, 1.0],\n",
    "}\n",
    "\n",
    "scorer = make_scorer(f1_score)\n",
    "\n",
    "grid_obj = GridSearchCV(clf, parameters, scoring = scorer)\n",
    "\n",
    "grid_fit = grid_obj.fit(X_train, y_train)\n",
    "\n",
    "best_clf = grid_fit.best_estimator_\n",
    "\n",
    "predictions = (clf.fit(X_train, y_train)).predict(X_test)\n",
    "best_predictions = best_clf.predict(X_test)\n",
    "\n",
    "print(\"Modelo não-otimizado\\n------\")\n",
    "print(\"Acurácia no dataset de teste: {:.4f}\".format(accuracy_score(y_test, predictions)))\n",
    "print(\"F-score no dataset de teste: {:.4f}\".format(f1_score(y_test, predictions)))\n",
    "print(\"\\n Modelo otimizado\\n------\")\n",
    "print(\"Acurácia final no dataset de teste: {:.4f}\".format(accuracy_score(y_test, best_predictions)))\n",
    "print(\"F-score final no dataset de teste: {:.4f}\".format(f1_score(y_test, best_predictions)))\n",
    "print(\"\\n Modelo final\\n------\")\n",
    "print(best_clf)\n"
   ]
  },
  {
   "cell_type": "code",
   "execution_count": null,
   "metadata": {},
   "outputs": [],
   "source": []
  }
 ],
 "metadata": {
  "kernelspec": {
   "display_name": "Python 3",
   "language": "python",
   "name": "python3"
  },
  "language_info": {
   "codemirror_mode": {
    "name": "ipython",
    "version": 3
   },
   "file_extension": ".py",
   "mimetype": "text/x-python",
   "name": "python",
   "nbconvert_exporter": "python",
   "pygments_lexer": "ipython3",
   "version": "3.6.7"
  }
 },
 "nbformat": 4,
 "nbformat_minor": 2
}
